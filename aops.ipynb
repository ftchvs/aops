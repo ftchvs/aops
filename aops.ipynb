{
 "cells": [
  {
   "cell_type": "markdown",
   "metadata": {},
   "source": [
    "Recently, we’ve noticed some fluctuations in email marketing campaign performance. Over the last month, our campaigns have been doing very poorly compared to prior months. The leadership team has asked us a few questions about this dip in campaign performance that we’d like you to look into and recommend a course of action. We care about making decisions backed by data and want to ensure that any conclusions we make are meaningful and significant. You have been provided with a data set that contains details of different campaigns we’ve launched and various metrics.\n",
    "<br>\n",
    "<br>\n",
    "Data is in the campaign_performance tab\n",
    "\n",
    "<br>campaign_id: id of the campaign\n",
    "<br>date_sent: date the campaign was sent to contacts\n",
    "<br>n_sent: number of emails sent to contacts\n",
    "<br>n_open: number of emails opened\n",
    "<br>n_click: number of email links clicked"
   ]
  },
  {
   "cell_type": "markdown",
   "metadata": {},
   "source": [
    "Questions:\n",
    "<br>Should we be concerned with the recent dip in performance? Explain why or why not.\n",
    "<br>What recommendations do you have about our email marketing strategy based on your findings ?"
   ]
  },
  {
   "cell_type": "markdown",
   "metadata": {},
   "source": [
    "Cell 1: Setup and Data Loading\n",
    "This cell contains all necessary imports and initial configurations."
   ]
  },
  {
   "cell_type": "code",
   "execution_count": 7,
   "metadata": {},
   "outputs": [],
   "source": [
    "# Cell 1: Setup and Data Loading\n",
    "import pandas as pd\n",
    "import numpy as np\n",
    "import matplotlib.pyplot as plt\n",
    "import seaborn as sns\n",
    "from scipy import stats\n",
    "from datetime import datetime, timedelta\n",
    "import warnings\n",
    "warnings.filterwarnings(\"ignore\")\n",
    "\n",
    "# Load and validate data\n",
    "df = pd.read_csv('Felipe Chaves_TakeHome Exercise - Campaign_Performance.csv', \n",
    "                 parse_dates=['date_sent'])\n",
    "assert (df['n_sent'] >= df['n_open']).all(), \"Invalid data: Opens exceed sent emails\"\n",
    "assert (df['n_open'] >= df['n_click']).all(), \"Invalid data: Clicks exceed opens\"\n",
    "\n",
    "# Calculate metrics\n",
    "df['open_rate'] = df['n_open']/df['n_sent']\n",
    "df['ctr'] = np.where(df['n_open'] > 0, df['n_click']/df['n_open'], 0)\n",
    "df['day_of_week'] = df['date_sent'].dt.day_name()\n",
    "df['month'] = df['date_sent'].dt.month"
   ]
  },
  {
   "cell_type": "code",
   "execution_count": null,
   "metadata": {},
   "outputs": [],
   "source": []
  }
 ],
 "metadata": {
  "kernelspec": {
   "display_name": "base",
   "language": "python",
   "name": "python3"
  },
  "language_info": {
   "codemirror_mode": {
    "name": "ipython",
    "version": 3
   },
   "file_extension": ".py",
   "mimetype": "text/x-python",
   "name": "python",
   "nbconvert_exporter": "python",
   "pygments_lexer": "ipython3",
   "version": "3.12.8"
  }
 },
 "nbformat": 4,
 "nbformat_minor": 2
}
