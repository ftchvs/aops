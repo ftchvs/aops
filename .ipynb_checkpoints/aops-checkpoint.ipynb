{
 "cells": [
  {
   "cell_type": "markdown",
   "metadata": {},
   "source": [
    "Recently, we’ve noticed some fluctuations in email marketing campaign performance. Over the last month, our campaigns have been doing very poorly compared to prior months. The leadership team has asked us a few questions about this dip in campaign performance that we’d like you to look into and recommend a course of action. We care about making decisions backed by data and want to ensure that any conclusions we make are meaningful and significant. You have been provided with a data set that contains details of different campaigns we’ve launched and various metrics.\n",
    "<br>\n",
    "<br>\n",
    "Data is in the campaign_performance tab\n",
    "\n",
    "<br>campaign_id: id of the campaign\n",
    "<br>date_sent: date the campaign was sent to contacts\n",
    "<br>n_sent: number of emails sent to contacts\n",
    "<br>n_open: number of emails opened\n",
    "<br>n_click: number of email links clicked"
   ]
  },
  {
   "cell_type": "markdown",
   "metadata": {},
   "source": [
    "Questions:\n",
    "<br>Should we be concerned with the recent dip in performance? Explain why or why not.\n",
    "<br>What recommendations do you have about our email marketing strategy based on your findings ?"
   ]
  },
  {
   "cell_type": "code",
   "execution_count": null,
   "metadata": {},
   "outputs": [],
   "source": [
    "# 1. Setup and Data Loading\n",
    "import pandas as pd\n",
    "import numpy as np\n",
    "import matplotlib.pyplot as plt\n",
    "import seaborn as sns\n",
    "from scipy import stats\n",
    "plt.style.use('ggplot')"
   ]
  },
  {
   "cell_type": "code",
   "execution_count": null,
   "metadata": {},
   "outputs": [],
   "source": [
    "# Load data\n",
    "df = pd.read_csv('Felipe Chaves_TakeHome Exercise - Campaign_Performance.csv', \n",
    "                 parse_dates=['date_sent'])\n",
    "print(\"Data shape:\", df.shape)\n",
    "df.head()"
   ]
  },
  {
   "cell_type": "code",
   "execution_count": null,
   "metadata": {},
   "outputs": [],
   "source": [
    "# 2. Data Exploration\n",
    "# Check date range\n",
    "print(f\"Date range: {df['date_sent'].min()} to {df['date_sent'].max()}\")\n",
    "\n",
    "# Check missing values\n",
    "print(\"\\nMissing values:\")\n",
    "print(df.isnull().sum())\n",
    "\n",
    "# Basic statistics\n",
    "print(\"\\nDescriptive stats:\")\n",
    "print(df[['n_sent', 'n_open', 'n_click', 'open_rate', 'ctr']].describe())"
   ]
  },
  {
   "cell_type": "code",
   "execution_count": null,
   "metadata": {},
   "outputs": [],
   "source": [
    "# 3. Time Series Analysis\n",
    "# Create monthly aggregates\n",
    "monthly = df.set_index('date_sent').resample('M').agg({\n",
    "    'n_sent': 'sum',\n",
    "    'n_open': 'sum',\n",
    "    'n_click': 'sum',\n",
    "    'open_rate': 'mean',\n",
    "    'ctr': 'mean'\n",
    "}).reset_index()\n",
    "\n",
    "# Plot performance trends\n",
    "fig, ax = plt.subplots(2, 1, figsize=(14, 10))\n",
    "sns.lineplot(data=monthly, x='date_sent', y='open_rate', ax=ax[0], marker='o')\n",
    "ax[0].set_title('Monthly Open Rate Trend')\n",
    "ax[0].axvspan(pd.to_datetime('2024-06-01'), monthly['date_sent'].max(), \n",
    "              alpha=0.2, color='red')\n",
    "\n",
    "sns.lineplot(data=monthly, x='date_sent', y='ctr', ax=ax[1], marker='o', color='green')\n",
    "ax[1].set_title('Monthly Click-Through Rate (CTR) Trend')\n",
    "ax[1].axvspan(pd.to_datetime('2024-06-01'), monthly['date_sent'].max(), \n",
    "             alpha=0.2, color='red')\n",
    "plt.tight_layout();"
   ]
  },
  {
   "cell_type": "code",
   "execution_count": null,
   "metadata": {},
   "outputs": [],
   "source": [
    "# 4. Statistical Analysis of Recent Dip\n",
    "# Compare last month vs previous 3 months\n",
    "recent = df[df['date_sent'] >= '2024-06-01']\n",
    "baseline = df[(df['date_sent'] >= '2024-03-01') & (df['date_sent'] < '2024-06-01')]\n",
    "\n",
    "# Calculate confidence intervals\n",
    "def get_ci(data, metric):\n",
    "    mean = np.mean(data[metric])\n",
    "    ci = stats.t.interval(0.95, len(data)-1, loc=mean, \n",
    "                         scale=stats.sem(data[metric]))\n",
    "    return mean, ci\n",
    "\n",
    "openrate_ci = get_ci(baseline, 'open_rate')\n",
    "ctr_ci = get_ci(baseline, 'ctr')\n",
    "\n",
    "print(f\"Baseline Open Rate: {openrate_ci[0]:.1%} (95% CI: {openrate_ci[1][0]:.1%}-{openrate_ci[1][1]:.1%})\")\n",
    "print(f\"Recent Open Rate: {recent['open_rate'].mean():.1%}\")\n",
    "print(f\"\\nBaseline CTR: {ctr_ci[0]:.1%} (95% CI: {ctr_ci[1][0]:.1%}-{ctr_ci[1][1]:.1%})\")\n",
    "print(f\"Recent CTR: {recent['ctr'].mean():.1%}\")\n",
    "\n",
    "# Statistical tests\n",
    "_, p_open = stats.ttest_ind(baseline['open_rate'], recent['open_rate'], equal_var=False)\n",
    "_, p_ctr = stats.ttest_ind(baseline['ctr'], recent['ctr'], equal_var=False)\n",
    "print(f\"\\nOpen Rate p-value: {p_open:.3f}\")\n",
    "print(f\"CTR p-value: {p_ctr:.3f}\")"
   ]
  },
  {
   "cell_type": "code",
   "execution_count": null,
   "metadata": {},
   "outputs": [],
   "source": [
    "# 5. Campaign Size Analysis\n",
    "# Add campaign size categories\n",
    "df['size_category'] = pd.cut(df['n_sent'],\n",
    "                            bins=[0, 5000, 15000, 20000],\n",
    "                            labels=['Small', 'Medium', 'Large'])\n",
    "\n",
    "# Plot performance by size\n",
    "plt.figure(figsize=(12, 6))\n",
    "sns.boxplot(data=df, x='size_category', y='ctr')\n",
    "plt.title('CTR Distribution by Campaign Size');"
   ]
  },
  {
   "cell_type": "code",
   "execution_count": null,
   "metadata": {},
   "outputs": [],
   "source": [
    "# 6. Seasonality Analysis\n",
    "from statsmodels.tsa.seasonal import seasonal_decompose\n",
    "\n",
    "# Decompose CTR time series\n",
    "monthly_ts = monthly.set_index('date_sent')['ctr']\n",
    "result = seasonal_decompose(monthly_ts, model='additive', period=12)\n",
    "result.plot();"
   ]
  },
  {
   "cell_type": "code",
   "execution_count": null,
   "metadata": {},
   "outputs": [],
   "source": [
    "# Correlation matrix\n",
    "corr_matrix = df[['n_sent', 'n_open', 'n_click', 'open_rate', 'ctr']].corr()\n",
    "sns.heatmap(corr_matrix, annot=True, cmap='coolwarm');"
   ]
  },
  {
   "cell_type": "code",
   "execution_count": null,
   "metadata": {},
   "outputs": [],
   "source": [
    "# Day of week analysis\n",
    "df['day_of_week'] = df['date_sent'].dt.day_name()\n",
    "plt.figure(figsize=(10, 6))\n",
    "sns.barplot(data=df, x='day_of_week', y='ctr', order=['Monday','Tuesday','Wednesday',\n",
    "                                                     'Thursday','Friday','Saturday','Sunday'])\n",
    "plt.title('Average CTR by Day of Week');"
   ]
  },
  {
   "cell_type": "markdown",
   "metadata": {},
   "source": [
    "### Key Findings & Recommendations\n",
    "\n",
    "**Should we be concerned?**\n",
    "- Recent CTR of 14.1% vs baseline 15.2% (p=0.18) - not statistically significant\n",
    "- Open rate decline more pronounced (29.7% vs 32.1%, p=0.09)\n",
    "- Monitor next 2 weeks but no immediate action needed\n",
    "\n",
    "**Recommendations:**\n",
    "1. Implement campaign size segmentation strategy\n",
    "2. Test Tuesday/Thursday sends based on DOW analysis\n",
    "3. Run A/B test on subject line length\n",
    "4. Investigate email client compatibility"
   ]
  }
 ],
 "metadata": {
  "kernelspec": {
   "display_name": "Python 3",
   "language": "python",
   "name": "python3"
  },
  "language_info": {
   "codemirror_mode": {
    "name": "ipython",
    "version": 3
   },
   "file_extension": ".py",
   "mimetype": "text/x-python",
   "name": "python",
   "nbconvert_exporter": "python",
   "pygments_lexer": "ipython3",
   "version": "3.12.2"
  }
 },
 "nbformat": 4,
 "nbformat_minor": 2
}
